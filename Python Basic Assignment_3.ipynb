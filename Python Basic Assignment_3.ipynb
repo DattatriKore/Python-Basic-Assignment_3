{
 "cells": [
  {
   "cell_type": "markdown",
   "id": "bd4ba41a",
   "metadata": {},
   "source": [
    "Q.[1] : Why are functions advantageous to have in your programs?\n",
    "\n",
    "Ans:-\n",
    "      \n",
    "      Functions reduce the need for duplicate code.\n",
    "      This makes programs shorter, easier to read, and easier to update."
   ]
  },
  {
   "cell_type": "markdown",
   "id": "3264045e",
   "metadata": {},
   "source": [
    "Q.[2] : When does the code in a function run: when it's specified or when it's called?\n",
    "\n",
    "Ans:- \n",
    "      The code in a function executes when the function is called, not when the function is defined."
   ]
  },
  {
   "cell_type": "markdown",
   "id": "bc9a8cad",
   "metadata": {},
   "source": [
    "Q.[3] : What statement creates a function?\n",
    "\n",
    "Ans:- \n",
    "      The def statement defines (that is, creates) a function."
   ]
  },
  {
   "cell_type": "markdown",
   "id": "dbc60c26",
   "metadata": {},
   "source": [
    "Q.[4] : What is the difference between a function and a function call?\n",
    "\n",
    "Ans:- \n",
    "      A function is a block of code that does a particular operation and returns a result. It usually accepts inputs as           parameters and returns a result. The parameters are not mandatory.\n",
    "      \n",
    "     A function call is the code used to pass control to a function."
   ]
  },
  {
   "cell_type": "markdown",
   "id": "c31687de",
   "metadata": {},
   "source": [
    "Q.[5] : How many global scopes are there in a Python program? How many local scopes?\n",
    "\n",
    "Ans:-  There is one global scope, and a local scope is created whenever a function is called\n",
    "     "
   ]
  },
  {
   "cell_type": "markdown",
   "id": "b99cf4c3",
   "metadata": {},
   "source": [
    "Q.[6] : What happens to variables in a local scope when the function call returns?\n",
    "\n",
    "Ans:-  When a function returns, the local scope is destroyed, and all the variables in it are forgotten."
   ]
  },
  {
   "cell_type": "markdown",
   "id": "4b154066",
   "metadata": {},
   "source": [
    "Q.[7] : What is the concept of a return value? Is it possible to have a return value in an expression?\n",
    "\n",
    "Ans:-  A return value is the value that a function call evaluates to. A return value can be used as part of an expression,        Like any value"
   ]
  },
  {
   "cell_type": "markdown",
   "id": "6670e3b9",
   "metadata": {},
   "source": [
    "Q.[8] : If a function does not have a return statement, what is the return value of a call to that function?\n",
    "\n",
    "Ans:-  If there is no return statement for a function, its return value is None\n"
   ]
  },
  {
   "cell_type": "markdown",
   "id": "d0a394a8",
   "metadata": {},
   "source": [
    "Q.[9] : How do you make a function variable refer to the global variable?\n",
    "\n",
    "Ans:- By representing a varible by global keywaord in the body of a function Example : global a"
   ]
  },
  {
   "cell_type": "markdown",
   "id": "89604b1e",
   "metadata": {},
   "source": [
    "Q.[10] : What is the data type of None?\n",
    "\n",
    "Ans:-  The data type of None is NoneType"
   ]
  },
  {
   "cell_type": "markdown",
   "id": "00a9191c",
   "metadata": {},
   "source": [
    "Q.[11] : What does the sentence import areallyourpetsnamederic do?\n",
    "\n",
    "Ans:-  areallyourpetsnamederic is not a python module. Importing this module will through ModuleNotFoundError exception"
   ]
  },
  {
   "cell_type": "code",
   "execution_count": 1,
   "id": "2242a9df",
   "metadata": {},
   "outputs": [
    {
     "ename": "ModuleNotFoundError",
     "evalue": "No module named 'areallyourpetsnamederic'",
     "output_type": "error",
     "traceback": [
      "\u001b[1;31m---------------------------------------------------------------------------\u001b[0m",
      "\u001b[1;31mModuleNotFoundError\u001b[0m                       Traceback (most recent call last)",
      "Input \u001b[1;32mIn [1]\u001b[0m, in \u001b[0;36m<cell line: 1>\u001b[1;34m()\u001b[0m\n\u001b[1;32m----> 1\u001b[0m \u001b[38;5;28;01mimport\u001b[39;00m \u001b[38;5;21;01mareallyourpetsnamederic\u001b[39;00m\n",
      "\u001b[1;31mModuleNotFoundError\u001b[0m: No module named 'areallyourpetsnamederic'"
     ]
    }
   ],
   "source": [
    "import areallyourpetsnamederic"
   ]
  },
  {
   "cell_type": "markdown",
   "id": "35e394fc",
   "metadata": {},
   "source": [
    "Q.[12] : If you had a bacon() feature in a spam module, what would you call it after importing spam?\n",
    "\n",
    "Ans:- \n",
    "       This function can be called with spam.bacon(). like below\n",
    "       \n",
    "    import spam\n",
    "    spam.bacon() "
   ]
  },
  {
   "cell_type": "markdown",
   "id": "41cb82f7",
   "metadata": {},
   "source": [
    "Q.[13] : What can you do to save a programme from crashing if it encounters an error?\n",
    "\n",
    "Ans:-  we can write lines of code in try block. This will not crash the programme And in except block we can catch the \n",
    "Exception"
   ]
  },
  {
   "cell_type": "markdown",
   "id": "db5aa8e5",
   "metadata": {},
   "source": [
    "Q.[14] : What is the purpose of the try clause? What is the purpose of the except clause?\n",
    "\n",
    "Ans:- \n",
    "     The code that could potentially cause an error goes in the try clause.\n",
    "     \n",
    "     The code that executes if an error happens goes in the except clause."
   ]
  }
 ],
 "metadata": {
  "kernelspec": {
   "display_name": "Python 3 (ipykernel)",
   "language": "python",
   "name": "python3"
  },
  "language_info": {
   "codemirror_mode": {
    "name": "ipython",
    "version": 3
   },
   "file_extension": ".py",
   "mimetype": "text/x-python",
   "name": "python",
   "nbconvert_exporter": "python",
   "pygments_lexer": "ipython3",
   "version": "3.9.12"
  }
 },
 "nbformat": 4,
 "nbformat_minor": 5
}
